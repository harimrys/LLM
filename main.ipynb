{
 "cells": [
  {
   "cell_type": "markdown",
   "metadata": {},
   "source": [
    "Prueba"
   ]
  },
  {
   "cell_type": "code",
   "execution_count": 1,
   "metadata": {},
   "outputs": [
    {
     "data": {
      "text/plain": [
       "'hola'"
      ]
     },
     "execution_count": 1,
     "metadata": {},
     "output_type": "execute_result"
    }
   ],
   "source": [
    "saludo = \"hola\"\n",
    "saludo"
   ]
  },
  {
   "cell_type": "code",
   "execution_count": null,
   "metadata": {},
   "outputs": [],
   "source": [
    "pip install openai\n"
   ]
  },
  {
   "cell_type": "code",
   "execution_count": null,
   "metadata": {},
   "outputs": [],
   "source": [
    "import openai\n",
    "\n",
    "# Configura tu clave de API\n",
    "openai.api_key = \"TU_CLAVE_DE_API\"  # Reemplaza con tu clave de API\n",
    "\n",
    "def generar_plan_de_estudio(tema, duracion_semanas, horas_por_dia, objetivos_especificos=None):\n",
    "    \"\"\"\n",
    "    Genera un plan de estudio utilizando la API de OpenAI.\n",
    "    \n",
    "    :param tema: El tema principal de estudio.\n",
    "    :param duracion_semanas: La duración total del plan en semanas.\n",
    "    :param horas_por_dia: Horas disponibles para estudiar cada día.\n",
    "    :param objetivos_especificos: Objetivos específicos que el usuario quiera incluir (opcional).\n",
    "    :return: El plan de estudio generado.\n",
    "    \"\"\"\n",
    "    prompt = f\"\"\"Genera un plan de estudio para el tema '{tema}'.\n",
    "    El plan debe durar {duracion_semanas} semanas y el usuario puede estudiar {horas_por_dia} horas al día.\n",
    "    Incluye objetivos semanales y tareas diarias que ayuden a cumplir los objetivos.\n",
    "    \"\"\"\n",
    "    \n",
    "    if objetivos_especificos:\n",
    "        prompt += f\"\\nObjetivos específicos a considerar: {objetivos_especificos}.\"\n",
    "\n",
    "    prompt += \"\\nEl plan debe ser detallado y fácil de seguir.\"\n",
    "\n",
    "    try:\n",
    "        respuesta = openai.Completion.create(\n",
    "            engine=\"text-davinci-003\",  # Modelo utilizado\n",
    "            prompt=prompt,\n",
    "            temperature=0.7,  # Controla la creatividad de la respuesta\n",
    "            max_tokens=500,   # Número máximo de tokens en la respuesta\n",
    "            n=1,\n",
    "            stop=None,\n",
    "        )\n",
    "        return respuesta.choices[0].text.strip()\n",
    "    except Exception as e:\n",
    "        return f\"Hubo un error al generar el plan de estudio: {e}\"\n",
    "\n",
    "def solicitar_datos_usuario():\n",
    "    \"\"\"\n",
    "    Solicita la información necesaria al usuario para generar el plan de estudio.\n",
    "    \"\"\"\n",
    "    tema = input(\"¿Cuál es el tema principal que deseas estudiar? \")\n",
    "    duracion_semanas = int(input(\"¿Cuántas semanas planeas dedicar al estudio? \"))\n",
    "    horas_por_dia = float(input(\"¿Cuántas horas al día puedes dedicar al estudio? \"))\n",
    "    objetivos_especificos = input(\"¿Tienes algún objetivo específico o área que desees cubrir? (Opcional): \")\n",
    "    \n",
    "    return tema, duracion_semanas, horas_por_dia, objetivos_especificos\n",
    "\n",
    "def main():\n",
    "    print(\"¡Bienvenido al Generador de Planes de Estudio!\")\n",
    "    tema, duracion_semanas, horas_por_dia, objetivos_especificos = solicitar_datos_usuario()\n",
    "    \n",
    "    print(\"\\nGenerando tu plan de estudio...\\n\")\n",
    "    plan = generar_plan_de_estudio(tema, duracion_semanas, horas_por_dia, objetivos_especificos)\n",
    "    \n",
    "    print(f\"Plan de estudio para {tema}:\\n\")\n",
    "    print(plan)\n",
    "\n",
    "if __name__ == \"__main__\":\n",
    "    main()\n"
   ]
  },
  {
   "cell_type": "code",
   "execution_count": null,
   "metadata": {},
   "outputs": [],
   "source": [
    "python generador_plan_estudio.py\n"
   ]
  }
 ],
 "metadata": {
  "kernelspec": {
   "display_name": "base",
   "language": "python",
   "name": "python3"
  },
  "language_info": {
   "codemirror_mode": {
    "name": "ipython",
    "version": 3
   },
   "file_extension": ".py",
   "mimetype": "text/x-python",
   "name": "python",
   "nbconvert_exporter": "python",
   "pygments_lexer": "ipython3",
   "version": "3.12.4"
  }
 },
 "nbformat": 4,
 "nbformat_minor": 2
}
